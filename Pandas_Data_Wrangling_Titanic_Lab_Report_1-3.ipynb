{
  "cells": [
    {
      "cell_type": "markdown",
      "metadata": {
        "id": "OgDUpmONRu00"
      },
      "source": [
        "\n",
        "## LAB REPORT 1 Description of Assignment:\n",
        "\n",
        "For this lab report, you will be working with the titanic ml dadataset. You would use this dataset to learn to wrangle dataframes.\n",
        "\n",
        "\n",
        "## Data Description/Challenges:\n",
        "\n",
        "The sinking of the Titanic is one of the most infamous shipwrecks in history.\n",
        "On April $15$, $1912$, during her maiden voyage, the widely considered “unsinkable” RMS Titanic sank after colliding with an iceberg. Unfortunately, there weren’t enough lifeboats for everyone onboard, resulting in the death of $1502$ out of $2224$ passengers and crew.\n",
        "\n",
        "In this challenge, you are tasked to do some wrangling on the data and find ways to understand the data a bit more. This aassignment is due Thursday, January 30, 2025\n"
      ]
    },
    {
      "cell_type": "markdown",
      "metadata": {
        "id": "qEmv-rlaRu03"
      },
      "source": [
        "#### 1. import the necessary libraries"
      ]
    },
    {
      "cell_type": "code",
      "source": [
        "'''\n",
        "Importing pandas to use the dataframe to organise data\n",
        "'''\n",
        "import pandas as pd"
      ],
      "metadata": {
        "id": "Ixp8n9DXR2UN"
      },
      "execution_count": 12,
      "outputs": []
    },
    {
      "cell_type": "markdown",
      "metadata": {
        "jp-MarkdownHeadingCollapsed": true,
        "id": "-vWOshIkRu04"
      },
      "source": [
        "#### 2.  Load the train data in a variable name called \"train\""
      ]
    },
    {
      "cell_type": "code",
      "source": [
        "'''\n",
        "Loading the train dataset form train by reading the csv and placing it in a\n",
        "pandas dataframe.\n",
        "\n",
        "'''\n",
        "train = pd.read_csv(\"/content/train.csv\")\n"
      ],
      "metadata": {
        "id": "OEYE9YwWSUxx"
      },
      "execution_count": 13,
      "outputs": []
    },
    {
      "cell_type": "markdown",
      "metadata": {
        "id": "RWhH4uq8Ru04"
      },
      "source": [
        "#### 3.  Load the test data in a variable name called \"test\""
      ]
    },
    {
      "cell_type": "code",
      "source": [
        "'''\n",
        "Loading the test dataset form train by reading the csv and placing it in a\n",
        "pandas dataframe.\n",
        "\n",
        "'''\n",
        "test = pd.read_csv(\"/content/test.csv\")"
      ],
      "metadata": {
        "id": "XE3iytbSS3Ab"
      },
      "execution_count": 14,
      "outputs": []
    },
    {
      "cell_type": "markdown",
      "metadata": {
        "id": "vo8a-gcvRu04"
      },
      "source": [
        "#### 4.  Check the shape of the train and test data"
      ]
    },
    {
      "cell_type": "code",
      "source": [
        "'''\n",
        "Using the shape method to print out the size of each dataframe\n",
        "'''\n",
        "print(\"Train data shape:\", train.shape)\n",
        "print(\"Test data shape:\", test.shape)\n"
      ],
      "metadata": {
        "colab": {
          "base_uri": "https://localhost:8080/"
        },
        "id": "exzElvNZS8MC",
        "outputId": "db55af0c-9685-4b43-c308-6d95fdc2fb8b"
      },
      "execution_count": 15,
      "outputs": [
        {
          "output_type": "stream",
          "name": "stdout",
          "text": [
            "Train data shape: (891, 12)\n",
            "Test data shape: (418, 11)\n"
          ]
        }
      ]
    },
    {
      "cell_type": "markdown",
      "metadata": {
        "id": "sBUjf0YjRu04"
      },
      "source": [
        "#### 5.  Comment on how many rows and columns the train and test data both have"
      ]
    },
    {
      "cell_type": "code",
      "source": [
        "'''\n",
        "Using the shape method to determine the rows and columns contained by each dataframe\n",
        "'''\n",
        "print(\"Train has\", train.shape[0], \"rows and\" , train.shape[1], \" columns\")\n",
        "print(\"Test has\", test.shape[0], \"rows and\" , test.shape[1], \" columns\")"
      ],
      "metadata": {
        "colab": {
          "base_uri": "https://localhost:8080/"
        },
        "id": "QOO6axjPUeEO",
        "outputId": "55a8a5ba-a168-4b01-ef46-eed5d7eac9ac"
      },
      "execution_count": 16,
      "outputs": [
        {
          "output_type": "stream",
          "name": "stdout",
          "text": [
            "Train has 891 rows and 12  columns\n",
            "Test has 418 rows and 11  columns\n"
          ]
        }
      ]
    },
    {
      "cell_type": "markdown",
      "metadata": {
        "id": "RTXhXdi5Ru04"
      },
      "source": [
        "#### 6.  Check the last 5 rows of the train and test data respectively."
      ]
    },
    {
      "cell_type": "code",
      "source": [
        "'''\n",
        "Using the tail method to print the last 5 rows for each dataframe\n",
        "'''\n",
        "print(\"The last 5 rows of train: \\n\", train.tail())\n",
        "print(\"\\nThe last 5 rows of test: \\n\", test.tail())"
      ],
      "metadata": {
        "colab": {
          "base_uri": "https://localhost:8080/"
        },
        "id": "1bSMPDnoVqUZ",
        "outputId": "5e014dd3-d8a9-4f74-be79-cf851af9c511"
      },
      "execution_count": 17,
      "outputs": [
        {
          "output_type": "stream",
          "name": "stdout",
          "text": [
            "The last 5 rows of train: \n",
            "      PassengerId  Survived  Pclass                                      Name  \\\n",
            "886          887         0       2                     Montvila, Rev. Juozas   \n",
            "887          888         1       1              Graham, Miss. Margaret Edith   \n",
            "888          889         0       3  Johnston, Miss. Catherine Helen \"Carrie\"   \n",
            "889          890         1       1                     Behr, Mr. Karl Howell   \n",
            "890          891         0       3                       Dooley, Mr. Patrick   \n",
            "\n",
            "        Sex   Age  SibSp  Parch      Ticket   Fare Cabin Embarked  \n",
            "886    male  27.0      0      0      211536  13.00   NaN        S  \n",
            "887  female  19.0      0      0      112053  30.00   B42        S  \n",
            "888  female   NaN      1      2  W./C. 6607  23.45   NaN        S  \n",
            "889    male  26.0      0      0      111369  30.00  C148        C  \n",
            "890    male  32.0      0      0      370376   7.75   NaN        Q  \n",
            "\n",
            "The last 5 rows of test: \n",
            "      PassengerId  Pclass                          Name     Sex   Age  SibSp  \\\n",
            "413         1305       3            Spector, Mr. Woolf    male   NaN      0   \n",
            "414         1306       1  Oliva y Ocana, Dona. Fermina  female  39.0      0   \n",
            "415         1307       3  Saether, Mr. Simon Sivertsen    male  38.5      0   \n",
            "416         1308       3           Ware, Mr. Frederick    male   NaN      0   \n",
            "417         1309       3      Peter, Master. Michael J    male   NaN      1   \n",
            "\n",
            "     Parch              Ticket      Fare Cabin Embarked  \n",
            "413      0           A.5. 3236    8.0500   NaN        S  \n",
            "414      0            PC 17758  108.9000  C105        C  \n",
            "415      0  SOTON/O.Q. 3101262    7.2500   NaN        S  \n",
            "416      0              359309    8.0500   NaN        S  \n",
            "417      1                2668   22.3583   NaN        C  \n"
          ]
        }
      ]
    },
    {
      "cell_type": "markdown",
      "metadata": {
        "id": "eN31WIvQRu04"
      },
      "source": [
        "#### 7.  Do a describitive of both the train and test data. Comment on the results from both data."
      ]
    },
    {
      "cell_type": "code",
      "source": [
        "'''\n",
        "This chunk calculates and displays descriptive statistics\n",
        "  (such as count, mean, std, min, max, and quartiles)\n",
        "  for both the train and test datasets.\n",
        "  '''\n",
        "print(\"Train Desciption: \\n\", train.describe())\n",
        "print(\"\\n Test Desciption: \\n\", test.describe())\n",
        "\n"
      ],
      "metadata": {
        "colab": {
          "base_uri": "https://localhost:8080/"
        },
        "id": "EruoGCC7WJ9z",
        "outputId": "fd6b16b8-f9dd-466b-bfa2-30c25b9add7b"
      },
      "execution_count": 18,
      "outputs": [
        {
          "output_type": "stream",
          "name": "stdout",
          "text": [
            "Train Desciption: \n",
            "        PassengerId    Survived      Pclass         Age       SibSp  \\\n",
            "count   891.000000  891.000000  891.000000  714.000000  891.000000   \n",
            "mean    446.000000    0.383838    2.308642   29.699118    0.523008   \n",
            "std     257.353842    0.486592    0.836071   14.526497    1.102743   \n",
            "min       1.000000    0.000000    1.000000    0.420000    0.000000   \n",
            "25%     223.500000    0.000000    2.000000   20.125000    0.000000   \n",
            "50%     446.000000    0.000000    3.000000   28.000000    0.000000   \n",
            "75%     668.500000    1.000000    3.000000   38.000000    1.000000   \n",
            "max     891.000000    1.000000    3.000000   80.000000    8.000000   \n",
            "\n",
            "            Parch        Fare  \n",
            "count  891.000000  891.000000  \n",
            "mean     0.381594   32.204208  \n",
            "std      0.806057   49.693429  \n",
            "min      0.000000    0.000000  \n",
            "25%      0.000000    7.910400  \n",
            "50%      0.000000   14.454200  \n",
            "75%      0.000000   31.000000  \n",
            "max      6.000000  512.329200  \n",
            "\n",
            " Test Desciption: \n",
            "        PassengerId      Pclass         Age       SibSp       Parch        Fare\n",
            "count   418.000000  418.000000  332.000000  418.000000  418.000000  417.000000\n",
            "mean   1100.500000    2.265550   30.272590    0.447368    0.392344   35.627188\n",
            "std     120.810458    0.841838   14.181209    0.896760    0.981429   55.907576\n",
            "min     892.000000    1.000000    0.170000    0.000000    0.000000    0.000000\n",
            "25%     996.250000    1.000000   21.000000    0.000000    0.000000    7.895800\n",
            "50%    1100.500000    3.000000   27.000000    0.000000    0.000000   14.454200\n",
            "75%    1204.750000    3.000000   39.000000    1.000000    0.000000   31.500000\n",
            "max    1309.000000    3.000000   76.000000    8.000000    9.000000  512.329200\n"
          ]
        }
      ]
    },
    {
      "cell_type": "markdown",
      "metadata": {
        "id": "3pGCCoApRu04"
      },
      "source": [
        "#### 8.  What are the column names in the train and test data respectively. Do you have any column in train which is absent in the test"
      ]
    },
    {
      "cell_type": "code",
      "source": [
        "'''\n",
        "Prints and compares column names of train and test DataFrames.\n",
        "\n",
        "  This chunk retrieves and prints the column names of both the\n",
        "  train and test DataFrames. It then compares the columns,\n",
        "  indicating matches and mismatches between the two.\n",
        "\n",
        "'''\n",
        "\n",
        "\n",
        "\n",
        "print(\"Column names in train data:\")\n",
        "train_column = train.columns.to_list()\n",
        "print(\"\\n\" ,train_column)\n",
        "\n",
        "print(\"Column names in test data:\")\n",
        "test_column = test.columns.to_list()\n",
        "print(\"\\n\" ,test_column)\n",
        "\n",
        "\n",
        "#check\n",
        "for i in range(len(train_column)):\n",
        "    for j in range(len(test_column)):\n",
        "        if i == j:  # Example condition: if indices are equal\n",
        "            print(f\"Match found at index {i}: {train_column[i]} == {test_column[j]}\")\n",
        "        else:\n",
        "            print(f\"No match: train_column[{i}] = {train_column[i]}, test_column[{j}] = {test_column[j]}\")"
      ],
      "metadata": {
        "colab": {
          "base_uri": "https://localhost:8080/"
        },
        "id": "BwcOCsqSXt3T",
        "outputId": "ea99bfd5-2aa3-4492-e771-99779c232e41"
      },
      "execution_count": 19,
      "outputs": [
        {
          "output_type": "stream",
          "name": "stdout",
          "text": [
            "Column names in train data:\n",
            "\n",
            " ['PassengerId', 'Survived', 'Pclass', 'Name', 'Sex', 'Age', 'SibSp', 'Parch', 'Ticket', 'Fare', 'Cabin', 'Embarked']\n",
            "Column names in test data:\n",
            "\n",
            " ['PassengerId', 'Pclass', 'Name', 'Sex', 'Age', 'SibSp', 'Parch', 'Ticket', 'Fare', 'Cabin', 'Embarked']\n",
            "Match found at index 0: PassengerId == PassengerId\n",
            "No match: train_column[0] = PassengerId, test_column[1] = Pclass\n",
            "No match: train_column[0] = PassengerId, test_column[2] = Name\n",
            "No match: train_column[0] = PassengerId, test_column[3] = Sex\n",
            "No match: train_column[0] = PassengerId, test_column[4] = Age\n",
            "No match: train_column[0] = PassengerId, test_column[5] = SibSp\n",
            "No match: train_column[0] = PassengerId, test_column[6] = Parch\n",
            "No match: train_column[0] = PassengerId, test_column[7] = Ticket\n",
            "No match: train_column[0] = PassengerId, test_column[8] = Fare\n",
            "No match: train_column[0] = PassengerId, test_column[9] = Cabin\n",
            "No match: train_column[0] = PassengerId, test_column[10] = Embarked\n",
            "No match: train_column[1] = Survived, test_column[0] = PassengerId\n",
            "Match found at index 1: Survived == Pclass\n",
            "No match: train_column[1] = Survived, test_column[2] = Name\n",
            "No match: train_column[1] = Survived, test_column[3] = Sex\n",
            "No match: train_column[1] = Survived, test_column[4] = Age\n",
            "No match: train_column[1] = Survived, test_column[5] = SibSp\n",
            "No match: train_column[1] = Survived, test_column[6] = Parch\n",
            "No match: train_column[1] = Survived, test_column[7] = Ticket\n",
            "No match: train_column[1] = Survived, test_column[8] = Fare\n",
            "No match: train_column[1] = Survived, test_column[9] = Cabin\n",
            "No match: train_column[1] = Survived, test_column[10] = Embarked\n",
            "No match: train_column[2] = Pclass, test_column[0] = PassengerId\n",
            "No match: train_column[2] = Pclass, test_column[1] = Pclass\n",
            "Match found at index 2: Pclass == Name\n",
            "No match: train_column[2] = Pclass, test_column[3] = Sex\n",
            "No match: train_column[2] = Pclass, test_column[4] = Age\n",
            "No match: train_column[2] = Pclass, test_column[5] = SibSp\n",
            "No match: train_column[2] = Pclass, test_column[6] = Parch\n",
            "No match: train_column[2] = Pclass, test_column[7] = Ticket\n",
            "No match: train_column[2] = Pclass, test_column[8] = Fare\n",
            "No match: train_column[2] = Pclass, test_column[9] = Cabin\n",
            "No match: train_column[2] = Pclass, test_column[10] = Embarked\n",
            "No match: train_column[3] = Name, test_column[0] = PassengerId\n",
            "No match: train_column[3] = Name, test_column[1] = Pclass\n",
            "No match: train_column[3] = Name, test_column[2] = Name\n",
            "Match found at index 3: Name == Sex\n",
            "No match: train_column[3] = Name, test_column[4] = Age\n",
            "No match: train_column[3] = Name, test_column[5] = SibSp\n",
            "No match: train_column[3] = Name, test_column[6] = Parch\n",
            "No match: train_column[3] = Name, test_column[7] = Ticket\n",
            "No match: train_column[3] = Name, test_column[8] = Fare\n",
            "No match: train_column[3] = Name, test_column[9] = Cabin\n",
            "No match: train_column[3] = Name, test_column[10] = Embarked\n",
            "No match: train_column[4] = Sex, test_column[0] = PassengerId\n",
            "No match: train_column[4] = Sex, test_column[1] = Pclass\n",
            "No match: train_column[4] = Sex, test_column[2] = Name\n",
            "No match: train_column[4] = Sex, test_column[3] = Sex\n",
            "Match found at index 4: Sex == Age\n",
            "No match: train_column[4] = Sex, test_column[5] = SibSp\n",
            "No match: train_column[4] = Sex, test_column[6] = Parch\n",
            "No match: train_column[4] = Sex, test_column[7] = Ticket\n",
            "No match: train_column[4] = Sex, test_column[8] = Fare\n",
            "No match: train_column[4] = Sex, test_column[9] = Cabin\n",
            "No match: train_column[4] = Sex, test_column[10] = Embarked\n",
            "No match: train_column[5] = Age, test_column[0] = PassengerId\n",
            "No match: train_column[5] = Age, test_column[1] = Pclass\n",
            "No match: train_column[5] = Age, test_column[2] = Name\n",
            "No match: train_column[5] = Age, test_column[3] = Sex\n",
            "No match: train_column[5] = Age, test_column[4] = Age\n",
            "Match found at index 5: Age == SibSp\n",
            "No match: train_column[5] = Age, test_column[6] = Parch\n",
            "No match: train_column[5] = Age, test_column[7] = Ticket\n",
            "No match: train_column[5] = Age, test_column[8] = Fare\n",
            "No match: train_column[5] = Age, test_column[9] = Cabin\n",
            "No match: train_column[5] = Age, test_column[10] = Embarked\n",
            "No match: train_column[6] = SibSp, test_column[0] = PassengerId\n",
            "No match: train_column[6] = SibSp, test_column[1] = Pclass\n",
            "No match: train_column[6] = SibSp, test_column[2] = Name\n",
            "No match: train_column[6] = SibSp, test_column[3] = Sex\n",
            "No match: train_column[6] = SibSp, test_column[4] = Age\n",
            "No match: train_column[6] = SibSp, test_column[5] = SibSp\n",
            "Match found at index 6: SibSp == Parch\n",
            "No match: train_column[6] = SibSp, test_column[7] = Ticket\n",
            "No match: train_column[6] = SibSp, test_column[8] = Fare\n",
            "No match: train_column[6] = SibSp, test_column[9] = Cabin\n",
            "No match: train_column[6] = SibSp, test_column[10] = Embarked\n",
            "No match: train_column[7] = Parch, test_column[0] = PassengerId\n",
            "No match: train_column[7] = Parch, test_column[1] = Pclass\n",
            "No match: train_column[7] = Parch, test_column[2] = Name\n",
            "No match: train_column[7] = Parch, test_column[3] = Sex\n",
            "No match: train_column[7] = Parch, test_column[4] = Age\n",
            "No match: train_column[7] = Parch, test_column[5] = SibSp\n",
            "No match: train_column[7] = Parch, test_column[6] = Parch\n",
            "Match found at index 7: Parch == Ticket\n",
            "No match: train_column[7] = Parch, test_column[8] = Fare\n",
            "No match: train_column[7] = Parch, test_column[9] = Cabin\n",
            "No match: train_column[7] = Parch, test_column[10] = Embarked\n",
            "No match: train_column[8] = Ticket, test_column[0] = PassengerId\n",
            "No match: train_column[8] = Ticket, test_column[1] = Pclass\n",
            "No match: train_column[8] = Ticket, test_column[2] = Name\n",
            "No match: train_column[8] = Ticket, test_column[3] = Sex\n",
            "No match: train_column[8] = Ticket, test_column[4] = Age\n",
            "No match: train_column[8] = Ticket, test_column[5] = SibSp\n",
            "No match: train_column[8] = Ticket, test_column[6] = Parch\n",
            "No match: train_column[8] = Ticket, test_column[7] = Ticket\n",
            "Match found at index 8: Ticket == Fare\n",
            "No match: train_column[8] = Ticket, test_column[9] = Cabin\n",
            "No match: train_column[8] = Ticket, test_column[10] = Embarked\n",
            "No match: train_column[9] = Fare, test_column[0] = PassengerId\n",
            "No match: train_column[9] = Fare, test_column[1] = Pclass\n",
            "No match: train_column[9] = Fare, test_column[2] = Name\n",
            "No match: train_column[9] = Fare, test_column[3] = Sex\n",
            "No match: train_column[9] = Fare, test_column[4] = Age\n",
            "No match: train_column[9] = Fare, test_column[5] = SibSp\n",
            "No match: train_column[9] = Fare, test_column[6] = Parch\n",
            "No match: train_column[9] = Fare, test_column[7] = Ticket\n",
            "No match: train_column[9] = Fare, test_column[8] = Fare\n",
            "Match found at index 9: Fare == Cabin\n",
            "No match: train_column[9] = Fare, test_column[10] = Embarked\n",
            "No match: train_column[10] = Cabin, test_column[0] = PassengerId\n",
            "No match: train_column[10] = Cabin, test_column[1] = Pclass\n",
            "No match: train_column[10] = Cabin, test_column[2] = Name\n",
            "No match: train_column[10] = Cabin, test_column[3] = Sex\n",
            "No match: train_column[10] = Cabin, test_column[4] = Age\n",
            "No match: train_column[10] = Cabin, test_column[5] = SibSp\n",
            "No match: train_column[10] = Cabin, test_column[6] = Parch\n",
            "No match: train_column[10] = Cabin, test_column[7] = Ticket\n",
            "No match: train_column[10] = Cabin, test_column[8] = Fare\n",
            "No match: train_column[10] = Cabin, test_column[9] = Cabin\n",
            "Match found at index 10: Cabin == Embarked\n",
            "No match: train_column[11] = Embarked, test_column[0] = PassengerId\n",
            "No match: train_column[11] = Embarked, test_column[1] = Pclass\n",
            "No match: train_column[11] = Embarked, test_column[2] = Name\n",
            "No match: train_column[11] = Embarked, test_column[3] = Sex\n",
            "No match: train_column[11] = Embarked, test_column[4] = Age\n",
            "No match: train_column[11] = Embarked, test_column[5] = SibSp\n",
            "No match: train_column[11] = Embarked, test_column[6] = Parch\n",
            "No match: train_column[11] = Embarked, test_column[7] = Ticket\n",
            "No match: train_column[11] = Embarked, test_column[8] = Fare\n",
            "No match: train_column[11] = Embarked, test_column[9] = Cabin\n",
            "No match: train_column[11] = Embarked, test_column[10] = Embarked\n"
          ]
        }
      ]
    },
    {
      "cell_type": "markdown",
      "metadata": {
        "scrolled": true,
        "id": "P76b7K6oRu04"
      },
      "source": [
        "#### 9.  Counts for the passengers who survived. Do this for only the train data"
      ]
    },
    {
      "cell_type": "code",
      "source": [
        "'''Prints the total number of passengers in the training data for whom survival information is available.'''\n",
        "\n",
        "print('Train survival count:', train['Survived'].count(), \"people\")"
      ],
      "metadata": {
        "colab": {
          "base_uri": "https://localhost:8080/"
        },
        "id": "1nM9yIjTao04",
        "outputId": "f58f7ee5-6617-4a6d-c0cf-179e12f6a1bb"
      },
      "execution_count": 20,
      "outputs": [
        {
          "output_type": "stream",
          "name": "stdout",
          "text": [
            "Train survival count: 891 people\n"
          ]
        }
      ]
    },
    {
      "cell_type": "markdown",
      "metadata": {
        "id": "O8Yz73SDRu05"
      },
      "source": [
        "#### 10.  Extract only the titles from the name columns in the train\n",
        "\n",
        "\n",
        "**Hint**: Check on using regular expression to extract the title from the name column."
      ]
    },
    {
      "cell_type": "code",
      "source": [
        "\n",
        "\n",
        "'''\n",
        "Extracts titles from the 'Name' column and cleans them.\n",
        "\n",
        "  This chunk extracts titles from the 'Name' column of the\n",
        "  DataFrame, cleans them by removing leading/trailing spaces,\n",
        "  and adds them as a new 'title' column. The temporary column\n",
        "  used for extraction is then dropped. Finally, it prints the\n",
        "  'title' column.\n",
        "\n",
        "'''\n",
        "\n",
        "#split by comma\n",
        "train[['last_name', 'temp']] = train['Name'].str.split(',', expand=True)\n",
        "\n",
        "# Split on the first occurrence of '.' only\n",
        "train['title'] = train['temp'].str.split('.').str[0]\n",
        "\n",
        "# Clean up the columns\n",
        "\n",
        "train['title'] = train['title'].str.strip()\n",
        "\n",
        "# Drop temporary column\n",
        "train = train.drop('temp', axis=1)\n",
        "\n",
        "#see only title\n",
        "print(train[['title']])"
      ],
      "metadata": {
        "colab": {
          "base_uri": "https://localhost:8080/"
        },
        "id": "k_RHs4Mkdb7t",
        "outputId": "df73c6fc-4877-4c5e-f237-544a4ed835fa"
      },
      "execution_count": 21,
      "outputs": [
        {
          "output_type": "stream",
          "name": "stdout",
          "text": [
            "    title\n",
            "0      Mr\n",
            "1     Mrs\n",
            "2    Miss\n",
            "3     Mrs\n",
            "4      Mr\n",
            "..    ...\n",
            "886   Rev\n",
            "887  Miss\n",
            "888  Miss\n",
            "889    Mr\n",
            "890    Mr\n",
            "\n",
            "[891 rows x 1 columns]\n"
          ]
        }
      ]
    },
    {
      "cell_type": "markdown",
      "metadata": {
        "id": "paDE-hh3Ru05"
      },
      "source": [
        "**Note:** You can only do this question after doing the previous question\n",
        " #### 11. Create a new column and call it \"Title\" to save the extracted titles above"
      ]
    },
    {
      "cell_type": "code",
      "source": [
        "'''\n",
        "Prints the 'title' column of the DataFrame.\n",
        "\n",
        "  This chunk simply prints the values in the 'title' column\n",
        "  of the provided DataFrame.\n",
        "\n",
        "'''\n",
        "print(train[\"title\"])"
      ],
      "metadata": {
        "colab": {
          "base_uri": "https://localhost:8080/"
        },
        "id": "ZRNxSdYDiVx7",
        "outputId": "dd7daad6-09cf-4666-b1a2-d1ac197c5f1e"
      },
      "execution_count": 22,
      "outputs": [
        {
          "output_type": "stream",
          "name": "stdout",
          "text": [
            "0        Mr\n",
            "1       Mrs\n",
            "2      Miss\n",
            "3       Mrs\n",
            "4        Mr\n",
            "       ... \n",
            "886     Rev\n",
            "887    Miss\n",
            "888    Miss\n",
            "889      Mr\n",
            "890      Mr\n",
            "Name: title, Length: 891, dtype: object\n"
          ]
        }
      ]
    },
    {
      "cell_type": "markdown",
      "metadata": {
        "id": "QQyHR79NRu05"
      },
      "source": [
        "#### 12.  Use this dictionary to change the title names in the train.Title created column\n",
        "\n",
        "mapping = {'Mlle': 'Miss', 'Major': 'Mr', 'Col': 'Mr', 'Sir': 'Mr',\n",
        "           'Don': 'Mr', 'Mme': 'Mrs', 'Jonkheer': 'Mr', 'Lady': 'Mrs',\n",
        "           'Capt': 'Mr', 'Countess': 'Mrs', 'Ms': 'Miss', 'Dona': 'Mrs'}"
      ]
    },
    {
      "cell_type": "code",
      "source": [
        "\n",
        "'''\n",
        "Replaces titles in the 'title' column using a mapping and prints the updated column.\n",
        "\n",
        "  This chunk defines a mapping dictionary to replace specific titles\n",
        "  in the 'title' column of the DataFrame with more common titles.\n",
        "  It then applies the mapping using the `replace` method and prints\n",
        "  the updated 'title' column. Finally, it prints the value counts\n",
        "  of the unique titles after the replacement.\n",
        "\n",
        "'''\n",
        "\n",
        "\n",
        "# Define the mapping dictionary\n",
        "mapping = {'Mlle': 'Miss', 'Major': 'Mr', 'Col': 'Mr', 'Sir': 'Mr', 'Don': 'Mr',\n",
        "          'Mme': 'Mrs', 'Jonkheer': 'Mr', 'Lady': 'Mrs', 'Capt': 'Mr',\n",
        "          'Countess': 'Mrs', 'Ms': 'Miss', 'Dona': 'Mrs'}\n",
        "\n",
        "# Replace the titles using the mapping\n",
        "train['title'] = train['title'].replace(mapping)\n",
        "\n",
        "print(train['title'])\n",
        "\n",
        "# Let's see the updated unique titles\n",
        "print(\"Updated unique titles:\")\n",
        "print(train['title'].value_counts())\n",
        "\n"
      ],
      "metadata": {
        "colab": {
          "base_uri": "https://localhost:8080/"
        },
        "id": "sBRI3i_djIts",
        "outputId": "d9f68321-e9ff-4658-e900-1126667e1106"
      },
      "execution_count": 23,
      "outputs": [
        {
          "output_type": "stream",
          "name": "stdout",
          "text": [
            "0        Mr\n",
            "1       Mrs\n",
            "2      Miss\n",
            "3       Mrs\n",
            "4        Mr\n",
            "       ... \n",
            "886     Rev\n",
            "887    Miss\n",
            "888    Miss\n",
            "889      Mr\n",
            "890      Mr\n",
            "Name: title, Length: 891, dtype: object\n",
            "Updated unique titles:\n",
            "title\n",
            "Mr              525\n",
            "Miss            185\n",
            "Mrs             127\n",
            "Master           40\n",
            "Dr                7\n",
            "Rev               6\n",
            "the Countess      1\n",
            "Name: count, dtype: int64\n"
          ]
        }
      ]
    },
    {
      "cell_type": "markdown",
      "metadata": {
        "scrolled": false,
        "id": "delnkRi9Ru05"
      },
      "source": [
        "#### 13.  Value counts after changing some titles"
      ]
    },
    {
      "cell_type": "code",
      "source": [
        "'''\n",
        "Prints the value counts of the 'title' column in the DataFrame.\n",
        "\n",
        "  This chunk calculates and displays the frequency of each unique\n",
        "  title in the 'title' column of the provided DataFrame.\n",
        "\n",
        "'''\n",
        "\n",
        "print(train['title'].value_counts())"
      ],
      "metadata": {
        "colab": {
          "base_uri": "https://localhost:8080/"
        },
        "id": "xOq-eqsWmdqn",
        "outputId": "25db899c-474f-4eb0-c003-4dc846c3186a"
      },
      "execution_count": 24,
      "outputs": [
        {
          "output_type": "stream",
          "name": "stdout",
          "text": [
            "title\n",
            "Mr              525\n",
            "Miss            185\n",
            "Mrs             127\n",
            "Master           40\n",
            "Dr                7\n",
            "Rev               6\n",
            "the Countess      1\n",
            "Name: count, dtype: int64\n"
          ]
        }
      ]
    },
    {
      "cell_type": "markdown",
      "metadata": {
        "scrolled": true,
        "id": "V7AtLMuMRu05"
      },
      "source": [
        "#### 14. Group data by class and view the averages for each column\n",
        "\n",
        "> Add blockquote\n",
        "\n"
      ]
    },
    {
      "cell_type": "code",
      "source": [
        "'''\n",
        "Groups data by class and calculates the average for each column.\n",
        "\n",
        "  This chunk groups the input DataFrame 'train' by the 'Pclass' column\n",
        "  (representing passenger class) and then calculates the average (mean)\n",
        "  for each numerical column within each class group. The resulting\n",
        "  DataFrame containing the class averages is then printed.\n",
        "\n",
        "'''\n",
        "\n",
        "numeric_cols = train.select_dtypes(include=['number']).columns\n",
        "class_averages = train.groupby('Pclass')[numeric_cols].mean()\n",
        "print(class_averages)"
      ],
      "metadata": {
        "id": "a3Coo5CCp0Np",
        "colab": {
          "base_uri": "https://localhost:8080/"
        },
        "outputId": "4902ecaf-7d45-43a4-e7cf-d114d40ed88f"
      },
      "execution_count": 38,
      "outputs": [
        {
          "output_type": "stream",
          "name": "stdout",
          "text": [
            "        PassengerId  Survived  Pclass        Age     SibSp     Parch  \\\n",
            "Pclass                                                                 \n",
            "1        461.597222  0.629630     1.0  38.233441  0.416667  0.356481   \n",
            "2        445.956522  0.472826     2.0  29.877630  0.402174  0.380435   \n",
            "3        439.154786  0.242363     3.0  25.140620  0.615071  0.393075   \n",
            "\n",
            "             Fare  \n",
            "Pclass             \n",
            "1       84.154687  \n",
            "2       20.662183  \n",
            "3       13.675550  \n"
          ]
        }
      ]
    },
    {
      "cell_type": "markdown",
      "metadata": {
        "id": "wEnHvPHfRu05"
      },
      "source": [
        "#### 15.  What do you observe from the  above groupby table? Discuss and write down your thoughts"
      ]
    },
    {
      "cell_type": "code",
      "source": [
        "'''\n",
        "\n",
        "\n",
        "'''"
      ],
      "metadata": {
        "id": "CWzy0FRiXXll"
      },
      "execution_count": null,
      "outputs": []
    },
    {
      "cell_type": "markdown",
      "metadata": {
        "scrolled": false,
        "id": "R85XrF04Ru05"
      },
      "source": [
        "#### 16.  Group by Pclass and sex\n",
        "\n",
        "---\n",
        "\n",
        "and find the mean\n"
      ]
    },
    {
      "cell_type": "code",
      "source": [
        "'''\n",
        "Groups data by Pclass and Sex and calculates the mean for each group.\n",
        "\n",
        "  This chunk groups the input DataFrame 'train' by 'Pclass' (passenger class)\n",
        "  and 'Sex', and then calculates the mean for each numerical column within\n",
        "  each group. The resulting DataFrame, containing the means for each group,\n",
        "  is then printed.\n",
        "'''\n",
        "\n",
        "\n",
        "# Select numeric columns\n",
        "numeric_cols = train.select_dtypes(include=['number']).columns\n",
        "\n",
        "# Group by 'Pclass' and 'Sex', calculating the mean for numeric columns only\n",
        "grouped_data = train.groupby(['Pclass', 'Sex'])[numeric_cols].mean()\n",
        "\n",
        "# Print the result\n",
        "print(grouped_data)"
      ],
      "metadata": {
        "colab": {
          "base_uri": "https://localhost:8080/"
        },
        "id": "kOdFWwpqZiZU",
        "outputId": "bdf22d01-0e0a-4e74-92a4-80b9ddff2a7c"
      },
      "execution_count": 36,
      "outputs": [
        {
          "output_type": "stream",
          "name": "stdout",
          "text": [
            "               PassengerId  Survived  Pclass        Age     SibSp     Parch  \\\n",
            "Pclass Sex                                                                    \n",
            "1      female   469.212766  0.968085     1.0  34.611765  0.553191  0.457447   \n",
            "       male     455.729508  0.368852     1.0  41.281386  0.311475  0.278689   \n",
            "2      female   443.105263  0.921053     2.0  28.722973  0.486842  0.605263   \n",
            "       male     447.962963  0.157407     2.0  30.740707  0.342593  0.222222   \n",
            "3      female   399.729167  0.500000     3.0  21.750000  0.895833  0.798611   \n",
            "       male     455.515850  0.135447     3.0  26.507589  0.498559  0.224784   \n",
            "\n",
            "                     Fare  \n",
            "Pclass Sex                 \n",
            "1      female  106.125798  \n",
            "       male     67.226127  \n",
            "2      female   21.970121  \n",
            "       male     19.741782  \n",
            "3      female   16.118810  \n",
            "       male     12.661633  \n"
          ]
        }
      ]
    },
    {
      "cell_type": "markdown",
      "metadata": {
        "id": "Z_hWKEUJRu06"
      },
      "source": [
        "#### 17. **Missing Values**"
      ]
    },
    {
      "cell_type": "markdown",
      "source": [
        "wr"
      ],
      "metadata": {
        "id": "nsUAZT9yZb0O"
      }
    },
    {
      "cell_type": "markdown",
      "metadata": {
        "scrolled": true,
        "id": "zyUbvKqnRu06"
      },
      "source": [
        "#### 18.  How many missing values are in train data  and test respectively.\n"
      ]
    },
    {
      "cell_type": "code",
      "source": [
        "'''\n",
        "Prints the number of missing values for each column in the train and test DataFrames.\n",
        "\n",
        "  This chunk calculates and prints the number of missing values\n",
        "  for each column in both the train and test DataFrames. The output\n",
        "  is presented as a list, where each element represents the count\n",
        "  of missing values in a corresponding column.\n",
        "\n",
        "'''\n",
        "\n",
        "\n",
        "print('The missing valies in the train data are:', train.isnull().sum().to_list())\n",
        "\n",
        "print('\\n The missing valies in the test data are:', test.isnull().sum().to_list())\n"
      ],
      "metadata": {
        "colab": {
          "base_uri": "https://localhost:8080/"
        },
        "id": "fFFG-5RSuQM9",
        "outputId": "ceaecf29-a52b-4176-8d77-ceb7242adbf8"
      },
      "execution_count": 28,
      "outputs": [
        {
          "output_type": "stream",
          "name": "stdout",
          "text": [
            "The missing valies in the train data are: [0, 0, 0, 0, 0, 177, 0, 0, 0, 0, 687, 2, 0, 0]\n",
            "\n",
            " The missing valies in the test data are: [0, 0, 0, 0, 86, 0, 0, 0, 1, 327, 0]\n"
          ]
        }
      ]
    },
    {
      "cell_type": "markdown",
      "metadata": {
        "id": "59YL8iMQRu06"
      },
      "source": [
        "#### 19.  Which of columns in the train data had missing values?"
      ]
    },
    {
      "cell_type": "code",
      "source": [
        "'''\n",
        "Prints the names of columns in the train DataFrame that contain missing values.\n",
        "\n",
        "  This chunk identifies and prints the names of columns in the\n",
        "  train DataFrame that have at least one missing value.\n",
        "  It uses the `isnull()` and `any()` methods to check for missing values\n",
        "  and the `columns` attribute to retrieve column names.\n",
        "\n",
        "\n",
        "'''\n",
        "\n",
        "\n",
        "\n",
        "print('The colums with missing values in Train are:', train.columns[train.isnull().any()].tolist())"
      ],
      "metadata": {
        "colab": {
          "base_uri": "https://localhost:8080/"
        },
        "id": "LRNqShkxumlD",
        "outputId": "f42e7608-5c13-4f7a-b5b5-5aa405107256"
      },
      "execution_count": 27,
      "outputs": [
        {
          "output_type": "stream",
          "name": "stdout",
          "text": [
            "The colums with missing values in Train are: ['Age', 'Cabin', 'Embarked']\n"
          ]
        }
      ]
    },
    {
      "cell_type": "markdown",
      "source": [],
      "metadata": {
        "id": "OPT51ig7wbz1"
      }
    },
    {
      "cell_type": "markdown",
      "metadata": {
        "id": "ueKIqRWORu06"
      },
      "source": [
        "#### 20.  Which of columns in the test data had missing values?\n"
      ]
    },
    {
      "cell_type": "code",
      "source": [
        "'''\n",
        "Prints the names of columns in the test DataFrame that contain missing values.\n",
        "\n",
        "    This chunk identifies and prints the names of columns in the\n",
        "    test DataFrame that have at least one missing value.\n",
        "    It uses the `isnull()` and `any()` methods to check for missing values\n",
        "    and the `columns` attribute to retrieve column names.\n",
        "\n",
        "'''\n",
        "\n",
        "\n",
        "print('The colums with missing values in Test are:', test.columns[test.isnull().any()].tolist())"
      ],
      "metadata": {
        "colab": {
          "base_uri": "https://localhost:8080/"
        },
        "id": "WhgNA_pMwmf8",
        "outputId": "c1af21ad-0060-4ced-9424-32a5113a7041"
      },
      "execution_count": 26,
      "outputs": [
        {
          "output_type": "stream",
          "name": "stdout",
          "text": [
            "The colums with missing values in Test are: ['Age', 'Fare', 'Cabin']\n"
          ]
        }
      ]
    },
    {
      "cell_type": "markdown",
      "metadata": {
        "id": "rSje9ZmmRu06"
      },
      "source": [
        "#### 21.  First drop all missing values and check the counts for missing value again"
      ]
    },
    {
      "cell_type": "code",
      "source": [
        "\n",
        "'''\n",
        "Counts the number of non-missing values in each column of the train DataFrame after dropping rows with any missing values.\n",
        "\n",
        "  This chunk first drops all rows with any missing values in the\n",
        "  train DataFrame using `dropna()`. Then, it uses `count()` to calculate\n",
        "  the number of non-missing values in each remaining row for each column.\n",
        "\n",
        "\n",
        "'''\n",
        "\n",
        "train.dropna().count()\n",
        "\n"
      ],
      "metadata": {
        "colab": {
          "base_uri": "https://localhost:8080/",
          "height": 517
        },
        "id": "y2ShWZDvw0WS",
        "outputId": "9acfb591-ea44-47a3-cdd7-8e518c65189c"
      },
      "execution_count": 30,
      "outputs": [
        {
          "output_type": "execute_result",
          "data": {
            "text/plain": [
              "PassengerId    183\n",
              "Survived       183\n",
              "Pclass         183\n",
              "Name           183\n",
              "Sex            183\n",
              "Age            183\n",
              "SibSp          183\n",
              "Parch          183\n",
              "Ticket         183\n",
              "Fare           183\n",
              "Cabin          183\n",
              "Embarked       183\n",
              "last_name      183\n",
              "title          183\n",
              "dtype: int64"
            ],
            "text/html": [
              "<div>\n",
              "<style scoped>\n",
              "    .dataframe tbody tr th:only-of-type {\n",
              "        vertical-align: middle;\n",
              "    }\n",
              "\n",
              "    .dataframe tbody tr th {\n",
              "        vertical-align: top;\n",
              "    }\n",
              "\n",
              "    .dataframe thead th {\n",
              "        text-align: right;\n",
              "    }\n",
              "</style>\n",
              "<table border=\"1\" class=\"dataframe\">\n",
              "  <thead>\n",
              "    <tr style=\"text-align: right;\">\n",
              "      <th></th>\n",
              "      <th>0</th>\n",
              "    </tr>\n",
              "  </thead>\n",
              "  <tbody>\n",
              "    <tr>\n",
              "      <th>PassengerId</th>\n",
              "      <td>183</td>\n",
              "    </tr>\n",
              "    <tr>\n",
              "      <th>Survived</th>\n",
              "      <td>183</td>\n",
              "    </tr>\n",
              "    <tr>\n",
              "      <th>Pclass</th>\n",
              "      <td>183</td>\n",
              "    </tr>\n",
              "    <tr>\n",
              "      <th>Name</th>\n",
              "      <td>183</td>\n",
              "    </tr>\n",
              "    <tr>\n",
              "      <th>Sex</th>\n",
              "      <td>183</td>\n",
              "    </tr>\n",
              "    <tr>\n",
              "      <th>Age</th>\n",
              "      <td>183</td>\n",
              "    </tr>\n",
              "    <tr>\n",
              "      <th>SibSp</th>\n",
              "      <td>183</td>\n",
              "    </tr>\n",
              "    <tr>\n",
              "      <th>Parch</th>\n",
              "      <td>183</td>\n",
              "    </tr>\n",
              "    <tr>\n",
              "      <th>Ticket</th>\n",
              "      <td>183</td>\n",
              "    </tr>\n",
              "    <tr>\n",
              "      <th>Fare</th>\n",
              "      <td>183</td>\n",
              "    </tr>\n",
              "    <tr>\n",
              "      <th>Cabin</th>\n",
              "      <td>183</td>\n",
              "    </tr>\n",
              "    <tr>\n",
              "      <th>Embarked</th>\n",
              "      <td>183</td>\n",
              "    </tr>\n",
              "    <tr>\n",
              "      <th>last_name</th>\n",
              "      <td>183</td>\n",
              "    </tr>\n",
              "    <tr>\n",
              "      <th>title</th>\n",
              "      <td>183</td>\n",
              "    </tr>\n",
              "  </tbody>\n",
              "</table>\n",
              "</div><br><label><b>dtype:</b> int64</label>"
            ]
          },
          "metadata": {},
          "execution_count": 30
        }
      ]
    },
    {
      "cell_type": "code",
      "source": [
        "'''\n",
        "Counts the number of non-missing values in each column of the test DataFrame after dropping rows with any missing values.\n",
        "\n",
        "  This chunk first drops all rows with any missing values in the\n",
        "  test DataFrame using `dropna()`. Then, it uses `count()` to calculate\n",
        "  the number of non-missing values in each remaining row for each column.\n",
        "\n",
        "'''\n",
        "\n",
        "\n",
        "test.dropna().count()\n"
      ],
      "metadata": {
        "colab": {
          "base_uri": "https://localhost:8080/",
          "height": 424
        },
        "id": "9JTsJt6QxvP3",
        "outputId": "ce5341a6-d8fa-450f-b6f9-b3e459f7e0cd"
      },
      "execution_count": 31,
      "outputs": [
        {
          "output_type": "execute_result",
          "data": {
            "text/plain": [
              "PassengerId    87\n",
              "Pclass         87\n",
              "Name           87\n",
              "Sex            87\n",
              "Age            87\n",
              "SibSp          87\n",
              "Parch          87\n",
              "Ticket         87\n",
              "Fare           87\n",
              "Cabin          87\n",
              "Embarked       87\n",
              "dtype: int64"
            ],
            "text/html": [
              "<div>\n",
              "<style scoped>\n",
              "    .dataframe tbody tr th:only-of-type {\n",
              "        vertical-align: middle;\n",
              "    }\n",
              "\n",
              "    .dataframe tbody tr th {\n",
              "        vertical-align: top;\n",
              "    }\n",
              "\n",
              "    .dataframe thead th {\n",
              "        text-align: right;\n",
              "    }\n",
              "</style>\n",
              "<table border=\"1\" class=\"dataframe\">\n",
              "  <thead>\n",
              "    <tr style=\"text-align: right;\">\n",
              "      <th></th>\n",
              "      <th>0</th>\n",
              "    </tr>\n",
              "  </thead>\n",
              "  <tbody>\n",
              "    <tr>\n",
              "      <th>PassengerId</th>\n",
              "      <td>87</td>\n",
              "    </tr>\n",
              "    <tr>\n",
              "      <th>Pclass</th>\n",
              "      <td>87</td>\n",
              "    </tr>\n",
              "    <tr>\n",
              "      <th>Name</th>\n",
              "      <td>87</td>\n",
              "    </tr>\n",
              "    <tr>\n",
              "      <th>Sex</th>\n",
              "      <td>87</td>\n",
              "    </tr>\n",
              "    <tr>\n",
              "      <th>Age</th>\n",
              "      <td>87</td>\n",
              "    </tr>\n",
              "    <tr>\n",
              "      <th>SibSp</th>\n",
              "      <td>87</td>\n",
              "    </tr>\n",
              "    <tr>\n",
              "      <th>Parch</th>\n",
              "      <td>87</td>\n",
              "    </tr>\n",
              "    <tr>\n",
              "      <th>Ticket</th>\n",
              "      <td>87</td>\n",
              "    </tr>\n",
              "    <tr>\n",
              "      <th>Fare</th>\n",
              "      <td>87</td>\n",
              "    </tr>\n",
              "    <tr>\n",
              "      <th>Cabin</th>\n",
              "      <td>87</td>\n",
              "    </tr>\n",
              "    <tr>\n",
              "      <th>Embarked</th>\n",
              "      <td>87</td>\n",
              "    </tr>\n",
              "  </tbody>\n",
              "</table>\n",
              "</div><br><label><b>dtype:</b> int64</label>"
            ]
          },
          "metadata": {},
          "execution_count": 31
        }
      ]
    },
    {
      "cell_type": "markdown",
      "metadata": {
        "id": "ONwYsIXgRu06"
      },
      "source": [
        "**Remember** Do not run the code on dropping all missing values the second time"
      ]
    },
    {
      "cell_type": "markdown",
      "metadata": {
        "id": "57o2t6WWRu06"
      },
      "source": [
        "#### 22.  Reload the data and drop the missing values in age with the mean\n"
      ]
    },
    {
      "cell_type": "code",
      "source": [
        "'''\n",
        "Drops missing values in the 'Age' column and prints the mode of the remaining values.\n",
        "\n",
        "    This chunk first drops rows with missing values in the 'Age' column\n",
        "    of the train DataFrame using `dropna()`. Then, it prints a message\n",
        "    indicating that the missing ages have been dropped. Finally, it calculates\n",
        "    and prints the mode (most frequent value) of the remaining 'Age' values.\n",
        "\n",
        "\n",
        "'''\n",
        "\n",
        "\n",
        "\n",
        "train['Age'].dropna()\n",
        "print('Prove of dropped ages:')\n",
        "train['Age'].dropna().mode()"
      ],
      "metadata": {
        "colab": {
          "base_uri": "https://localhost:8080/",
          "height": 131
        },
        "id": "rAG6pHAhten2",
        "outputId": "246079de-d787-4aea-dfe8-f454923594ca"
      },
      "execution_count": 32,
      "outputs": [
        {
          "output_type": "stream",
          "name": "stdout",
          "text": [
            "Prove of dropped ages:\n"
          ]
        },
        {
          "output_type": "execute_result",
          "data": {
            "text/plain": [
              "0    24.0\n",
              "Name: Age, dtype: float64"
            ],
            "text/html": [
              "<div>\n",
              "<style scoped>\n",
              "    .dataframe tbody tr th:only-of-type {\n",
              "        vertical-align: middle;\n",
              "    }\n",
              "\n",
              "    .dataframe tbody tr th {\n",
              "        vertical-align: top;\n",
              "    }\n",
              "\n",
              "    .dataframe thead th {\n",
              "        text-align: right;\n",
              "    }\n",
              "</style>\n",
              "<table border=\"1\" class=\"dataframe\">\n",
              "  <thead>\n",
              "    <tr style=\"text-align: right;\">\n",
              "      <th></th>\n",
              "      <th>Age</th>\n",
              "    </tr>\n",
              "  </thead>\n",
              "  <tbody>\n",
              "    <tr>\n",
              "      <th>0</th>\n",
              "      <td>24.0</td>\n",
              "    </tr>\n",
              "  </tbody>\n",
              "</table>\n",
              "</div><br><label><b>dtype:</b> float64</label>"
            ]
          },
          "metadata": {},
          "execution_count": 32
        }
      ]
    },
    {
      "cell_type": "markdown",
      "source": [],
      "metadata": {
        "id": "biLjQLvPsQit"
      }
    },
    {
      "cell_type": "markdown",
      "metadata": {
        "id": "azGKJk6WRu06"
      },
      "source": [
        "#### 23. Drop the missing values with the Embarked with the mode\n"
      ]
    },
    {
      "cell_type": "code",
      "source": [
        "'''\n",
        "Drops missing values in the 'Embarked' column and prints the mode of the remaining values.\n",
        "\n",
        "    This chunk first drops rows with missing values in the 'Embarked' column\n",
        "    of the train DataFrame using `dropna()`. Then, it prints a message\n",
        "    indicating that the missing values have been dropped. Finally, it calculates\n",
        "    and prints the mode (most frequent value) of the remaining 'Embarked' values.\n",
        "\n",
        "'''\n",
        "\n",
        "\n",
        "train['Embarked'].dropna()\n",
        "print('Prove of dropped values:')\n",
        "train['Embarked'].dropna().mode()"
      ],
      "metadata": {
        "colab": {
          "base_uri": "https://localhost:8080/",
          "height": 131
        },
        "id": "UDMMJZOUslLh",
        "outputId": "048c3405-53ee-4402-f9da-d3d0c6498195"
      },
      "execution_count": 33,
      "outputs": [
        {
          "output_type": "stream",
          "name": "stdout",
          "text": [
            "Prove of dropped values:\n"
          ]
        },
        {
          "output_type": "execute_result",
          "data": {
            "text/plain": [
              "0    S\n",
              "Name: Embarked, dtype: object"
            ],
            "text/html": [
              "<div>\n",
              "<style scoped>\n",
              "    .dataframe tbody tr th:only-of-type {\n",
              "        vertical-align: middle;\n",
              "    }\n",
              "\n",
              "    .dataframe tbody tr th {\n",
              "        vertical-align: top;\n",
              "    }\n",
              "\n",
              "    .dataframe thead th {\n",
              "        text-align: right;\n",
              "    }\n",
              "</style>\n",
              "<table border=\"1\" class=\"dataframe\">\n",
              "  <thead>\n",
              "    <tr style=\"text-align: right;\">\n",
              "      <th></th>\n",
              "      <th>Embarked</th>\n",
              "    </tr>\n",
              "  </thead>\n",
              "  <tbody>\n",
              "    <tr>\n",
              "      <th>0</th>\n",
              "      <td>S</td>\n",
              "    </tr>\n",
              "  </tbody>\n",
              "</table>\n",
              "</div><br><label><b>dtype:</b> object</label>"
            ]
          },
          "metadata": {},
          "execution_count": 33
        }
      ]
    },
    {
      "cell_type": "markdown",
      "metadata": {
        "id": "REiT2dhoRu06"
      },
      "source": [
        "#### 24. Merge the two dataframes and called it df.Check to the number of rows and columns and number of missing values"
      ]
    },
    {
      "cell_type": "code",
      "execution_count": 34,
      "metadata": {
        "id": "rvcdcYMRRu07",
        "colab": {
          "base_uri": "https://localhost:8080/"
        },
        "outputId": "e91b3a67-ae8b-497f-856d-f851bcca9032"
      },
      "outputs": [
        {
          "output_type": "stream",
          "name": "stdout",
          "text": [
            "The merged dataframe has 891 rows and 14 columns\n",
            "The merged dataframe has PassengerId       0\n",
            "Survived        418\n",
            "Pclass            0\n",
            "Name              0\n",
            "Sex               0\n",
            "Age             263\n",
            "SibSp             0\n",
            "Parch             0\n",
            "Ticket            0\n",
            "Fare              1\n",
            "Cabin          1014\n",
            "Embarked          2\n",
            "last_name       418\n",
            "title           418\n",
            "dtype: int64 missing values\n"
          ]
        }
      ],
      "source": [
        "'''\n",
        "Merges the train and test DataFrames and prints information about the merged DataFrame.\n",
        "\n",
        "  This chunk concatenates the train and test DataFrames into a new DataFrame\n",
        "  called 'df'. It then prints the number of rows and columns in the merged\n",
        "  DataFrame. Finally, it prints the total number of missing values in each\n",
        "  column of the merged DataFrame.\n",
        "\n",
        "\n",
        "'''\n",
        "\n",
        "\n",
        "df=pd.concat([train,test])\n",
        "df.shape\n",
        "print(\"The merged dataframe has\", train.shape[0], \"rows and\" , train.shape[1], \"columns\")\n",
        "print(\"The merged dataframe has\", df.isnull().sum(), \"missing values\")"
      ]
    }
  ],
  "metadata": {
    "kernelspec": {
      "display_name": "Python 3 (ipykernel)",
      "language": "python",
      "name": "python3"
    },
    "language_info": {
      "codemirror_mode": {
        "name": "ipython",
        "version": 3
      },
      "file_extension": ".py",
      "mimetype": "text/x-python",
      "name": "python",
      "nbconvert_exporter": "python",
      "pygments_lexer": "ipython3",
      "version": "3.12.8"
    },
    "varInspector": {
      "cols": {
        "lenName": 16,
        "lenType": 16,
        "lenVar": 40
      },
      "kernels_config": {
        "python": {
          "delete_cmd_postfix": "",
          "delete_cmd_prefix": "del ",
          "library": "var_list.py",
          "varRefreshCmd": "print(var_dic_list())"
        },
        "r": {
          "delete_cmd_postfix": ") ",
          "delete_cmd_prefix": "rm(",
          "library": "var_list.r",
          "varRefreshCmd": "cat(var_dic_list()) "
        }
      },
      "types_to_exclude": [
        "module",
        "function",
        "builtin_function_or_method",
        "instance",
        "_Feature"
      ],
      "window_display": false
    },
    "colab": {
      "provenance": []
    }
  },
  "nbformat": 4,
  "nbformat_minor": 0
}